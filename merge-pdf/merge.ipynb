{
 "cells": [
  {
   "cell_type": "code",
   "execution_count": 13,
   "metadata": {},
   "outputs": [],
   "source": [
    "from PyPDF2 import PdfMerger"
   ]
  },
  {
   "cell_type": "code",
   "execution_count": 14,
   "metadata": {},
   "outputs": [],
   "source": [
    "def merge_pdfs(pdf_list, output_file):\n",
    "    \"\"\"\n",
    "    Merge multiple PDF files into a single PDF.\n",
    "\n",
    "    :param pdf_list: List of PDF file paths to be merged\n",
    "    :param output_file: Path for the output merged PDF file\n",
    "    \"\"\"\n",
    "    merger = PdfMerger()\n",
    "    try:\n",
    "        for pdf in pdf_list:\n",
    "            merger.append(pdf)\n",
    "        merger.write(output_file)\n",
    "        print(f\"Merged PDF saved as {output_file}\")\n",
    "    except Exception as e:\n",
    "        print(f\"An error occurred: {e}\")\n",
    "    finally:\n",
    "        merger.close()\n"
   ]
  },
  {
   "cell_type": "code",
   "execution_count": 15,
   "metadata": {},
   "outputs": [
    {
     "name": "stdout",
     "output_type": "stream",
     "text": [
      "An error occurred: [Errno 2] No such file or directory: 'file1.pdf'\n"
     ]
    }
   ],
   "source": [
    "# Usage\n",
    "if __name__ == \"__main__\":\n",
    "    # Replace these with your actual PDF file paths\n",
    "    pdf_files = [\"file1.pdf\", \"file2.pdf\", \"file3.pdf\"]\n",
    "    output = \"merged-files.pdf\"\n",
    "    merge_pdfs(pdf_files, output)"
   ]
  }
 ],
 "metadata": {
  "kernelspec": {
   "display_name": ".venv",
   "language": "python",
   "name": "python3"
  },
  "language_info": {
   "codemirror_mode": {
    "name": "ipython",
    "version": 3
   },
   "file_extension": ".py",
   "mimetype": "text/x-python",
   "name": "python",
   "nbconvert_exporter": "python",
   "pygments_lexer": "ipython3",
   "version": "3.10.0"
  }
 },
 "nbformat": 4,
 "nbformat_minor": 2
}
